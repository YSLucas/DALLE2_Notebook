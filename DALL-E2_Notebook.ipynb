{
 "cells": [
  {
   "cell_type": "markdown",
   "id": "4079634e",
   "metadata": {},
   "source": [
    "# Installing & Setup\n",
    "\n",
    "## **Making a DALL-E account**\n",
    "1. Make [Dall-E 2 account](https://openai.com/api/)\n",
    "2. Click top right for your account and go to \"View API Keys\"\n",
    "3. Click on \"Create new secret key\"\n",
    "4. Copy the key and paste in cell below (you can make multiple ones so if you forget to copy just make a new one)\n",
    "\n",
    "(You can generate 50 free images with your Dall-E 2 account on this site https://labs.openai.com/)\n",
    "\n",
    "### If you want to generate more Images (~1000)  you can use this Notebook </br>\n",
    "**If you are using Conda you can use these 4 steps to install:**\n",
    "1. Go to Conda navigator\n",
    "2. Go to enviroments (left bar)\n",
    "3. Click green play button and open ternimal\n",
    "4. Use this line to install openai -> `conda install -c conda-forge openai`\n",
    "5. and this -> `conda install -c anaconda requests`\n",
    "\n",
    "**If you don't use Conda use this instead:**\n",
    "1. open python terminal\n",
    "2. Use this line to install openai -> `pip install openai`\n",
    "3. and this -> `pip install requests`\n",
    "\n",
    "### Run cel below"
   ]
  },
  {
   "cell_type": "code",
   "execution_count": 1,
   "id": "42037a19",
   "metadata": {},
   "outputs": [],
   "source": [
    "# Dall-E 2 packages\n",
    "import os\n",
    "import io\n",
    "import openai\n",
    "import IPython.display as Disp\n",
    "import requests\n",
    "import urllib.request\n",
    "import datetime\n",
    "\n",
    "#Dall-E 2 Secret Key\n",
    "openai.api_key = 'Secret Key here' # <-- SECRET KEY\n",
    "\n",
    "# Make folder to save images\n",
    "PATH = 'Generated_Images'\n",
    "if not os.path.exists(PATH):\n",
    "    os.makedirs(PATH)"
   ]
  },
  {
   "cell_type": "markdown",
   "id": "4694d818",
   "metadata": {},
   "source": [
    "# Generative A.I. Workshop Notebook\n",
    "\n",
    "</br>\n",
    "\n",
    "Go to [this website](http://dalle2-prompt-generator.s3-website-us-west-2.amazonaws.com/) generate a prompt.</br>\n",
    "**OR**</br>\n",
    "[This site](https://mpost.io/top-50-text-to-image-prompts-for-ai-art-generators-midjourney-and-dall-e/) for inspiration. Or [This one](https://strikingloo.github.io/DALL-E-2-prompt-guide)</br>\n",
    "**OR**</br>\n",
    "Search Google for ideas</br>\n",
    "**OR**</br>\n",
    "Make your own prompts\n",
    "\n",
    "\n",
    "## Here is a list of styles you can use for your pictures\n",
    "(There is more to find on google)\n",
    "1. Pixar style 3D render\n",
    "2. A digital illustration, 4k, detailed, trending in artstation\n",
    "3. A photograph, 4k, detailed\n",
    "4. Low-poly render, high resolution, 4k\n",
    "5. oil painting, trending in artstation, anime\n",
    "6. ghibli inspired, anime, oil painting, high resolution, cottagecore, 4k\n",
    "7. fantasy, 4k, detailed, trending in artstation\n",
    "8. Josef Thoma, matte painting trending on artstation HQ, concept art\n",
    "9. vivid colors, 4k, fantasy, A digital illustration [,/organic]\n",
    "10. hyper-realistic, cinematic, detailed \n",
    "11. hyper-realistic, ultra resolution, creepy, dark\n",
    "\n",
    "*Usage example*: `Your prompt text | Style choice`"
   ]
  },
  {
   "cell_type": "markdown",
   "id": "ba5b1f06",
   "metadata": {},
   "source": [
    "**You can re-use the code cell below, the pictures will be saved to your PC**"
   ]
  },
  {
   "cell_type": "code",
   "execution_count": null,
   "id": "fc529749",
   "metadata": {},
   "outputs": [],
   "source": [
    "response1 = openai.Image.create(\n",
    "    prompt='Your prompt | Style choices', # <-- Place your prompt here\n",
    "    n=6, # this is the number of images it will generate\n",
    "    size='512x512' # resolution; 256x256, 512x512, or 1024x1024 pixels\n",
    ")\n",
    "\n",
    "# Make this matches the amount of images you generated (n=)\n",
    "# For example if you make n=7 add the following line below: \n",
    "# image_7 = response1['data'][6]['url']\n",
    "image_1 = response1['data'][0]['url']\n",
    "image_2 = response1['data'][1]['url']\n",
    "image_3 = response1['data'][2]['url']\n",
    "image_4 = response1['data'][3]['url']\n",
    "image_5 = response1['data'][4]['url']\n",
    "image_6 = response1['data'][5]['url']\n",
    "\n",
    "# The code below is used to save all the pictures\n",
    "# If you don't want this you can comment this code out\n",
    "# The pictures are found in the folder Generated_Images \n",
    "# You DON'T have to edit the code below when you increase the number of generated images (n=)\n",
    "filename = 0\n",
    "for i in range(0, len(response1['data']) ):\n",
    "    file_location = str(datetime.datetime.now())\n",
    "    file_location = file_location.replace(\":\", \"-\")\n",
    "    file_location = file_location.replace(\".\", \"-\")\n",
    "    file_location = file_location.replace(\" \", \"_\")\n",
    "    \n",
    "    # save image\n",
    "    urllib.request.urlretrieve(response1['data'][i]['url'], f\"Generated_Images/{file_location}.jpg\")"
   ]
  },
  {
   "cell_type": "markdown",
   "id": "f1bb314f",
   "metadata": {},
   "source": [
    "### Results!"
   ]
  },
  {
   "cell_type": "code",
   "execution_count": null,
   "id": "0183b1af",
   "metadata": {},
   "outputs": [],
   "source": [
    "Disp.Image(requests.get(image_1).content)"
   ]
  },
  {
   "cell_type": "code",
   "execution_count": null,
   "id": "512d1aa8",
   "metadata": {},
   "outputs": [],
   "source": [
    "Disp.Image(requests.get(image_2).content)"
   ]
  },
  {
   "cell_type": "code",
   "execution_count": null,
   "id": "238d84d0",
   "metadata": {},
   "outputs": [],
   "source": [
    "Disp.Image(requests.get(image_3).content)"
   ]
  },
  {
   "cell_type": "code",
   "execution_count": null,
   "id": "6b22c65f",
   "metadata": {},
   "outputs": [],
   "source": [
    "Disp.Image(requests.get(image_4).content)"
   ]
  },
  {
   "cell_type": "code",
   "execution_count": null,
   "id": "b5367481",
   "metadata": {},
   "outputs": [],
   "source": [
    "Disp.Image(requests.get(image_5).content)"
   ]
  },
  {
   "cell_type": "code",
   "execution_count": null,
   "id": "f46d1891",
   "metadata": {},
   "outputs": [],
   "source": [
    "Disp.Image(requests.get(image_6).content)"
   ]
  },
  {
   "cell_type": "markdown",
   "id": "0e1392a5",
   "metadata": {},
   "source": [
    "## Some prompts\n",
    "- **a cute anime otter** (oil painting)\n",
    "- A digital illustration of **glowing toadstools beside a pond with lilypads**, 4k, detailed, trending in artstation\n",
    "- **Cluttered house in the woods**, anime, oil painting, high resolution, cottagecore, ghibli inspired, 4k\n",
    "- **A beautiful castle beside a waterfall in the woods**, by Josef Thoma, matte painting, trending on artstation HQ\n",
    "- **Cute and adorable ferret wizard, wearing coat and suit**, steampunk, lantern, anthromorphic, Jean paptiste monge, oil painting\n",
    "- photo of an **extremely cute alien fish swimming an alien habitable underwater planet**, coral reefs, dream-like atmosphere, water, plants, peaceful, serenity, calm ocean, tansparent water, reefs, fish, coral, inner peace, awareness, silence, nature, evolution\n",
    "- photorealistic **flying house**, many details, Ultra detailed, octane render, by Alexander Jansson\n",
    "- Portrait In the style of **Rembrandt** Harmenszoon van Rijn oil painting \n",
    "- **pale young man sitting in an armchair reading beside a big fireplace**, bookshelves covering the dark walls, dogs lying on the floor, rule of thirds, dark room\n",
    "- in darkest blue subway,a side road of huge **underground sewage channel**\n",
    "- **Llama in a jersey dunking a basketball** like Michael Jordan, screenshots from the Miyazaki anime movie\n",
    "- dense woodland landscape, ::0.4 , English forest, Irish forest, scottish forest, perspective, folklore,King Arthur, Lord of the Rings, Game of Thrones. ultra photoreal , photographic, concept art, cinematic lighting, cinematic composition, rule of thirds , mysterious, eerie, cinematic lighting, ultra-detailed, ultrarealistic, photorealism, 8k, octane render, Albert Bierstadt --ar 16:12\", # <-- Place your prompt here\n",
    "    cfg_scale=8.0,\n"
   ]
  },
  {
   "cell_type": "code",
   "execution_count": null,
   "id": "4f0967de",
   "metadata": {},
   "outputs": [],
   "source": []
  }
 ],
 "metadata": {
  "kernelspec": {
   "display_name": "Python 3 (ipykernel)",
   "language": "python",
   "name": "python3"
  },
  "language_info": {
   "codemirror_mode": {
    "name": "ipython",
    "version": 3
   },
   "file_extension": ".py",
   "mimetype": "text/x-python",
   "name": "python",
   "nbconvert_exporter": "python",
   "pygments_lexer": "ipython3",
   "version": "3.9.13"
  }
 },
 "nbformat": 4,
 "nbformat_minor": 5
}
